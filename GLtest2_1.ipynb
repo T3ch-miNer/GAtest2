{
 "cells": [
  {
   "cell_type": "code",
   "execution_count": 1,
   "metadata": {
    "id": "jxJAVkCiRHIs"
   },
   "outputs": [],
   "source": [
    "# numpy and pandas imports\n",
    "import numpy as np\n",
    "import pandas as pd\n",
    "import matplotlib.pyplot as plt\n",
    "import seaborn as sns\n",
    "%matplotlib inline\n",
    "\n",
    "# ML Libraries for scikit\n",
    "from sklearn.model_selection import train_test_split\n",
    "\n",
    "from sklearn.preprocessing import RobustScaler\n",
    "from sklearn.linear_model import LogisticRegression\n",
    "from sklearn.ensemble import RandomForestClassifier\n",
    "from sklearn.tree import DecisionTreeClassifier \n",
    "from sklearn.feature_selection import SelectKBest, f_classif, chi2\n",
    "from sklearn import tree\n",
    "from sklearn.metrics import accuracy_score,classification_report,confusion_matrix,\\\n",
    "                            precision_recall_curve,precision_score,recall_score,roc_auc_score,roc_curve,\\\n",
    "                            matthews_corrcoef, f1_score, make_scorer, auc\n",
    "from scipy.stats import skew\n",
    "\n",
    "#  Recursive Feature Elimination\n",
    "from sklearn.feature_selection import RFE\n",
    "        \n",
    "# Python imports\n",
    "from math import log, sqrt\n",
    "import re\n",
    "import collections\n",
    "import warnings\n",
    "\n",
    "# decision tree visualization related imports\n",
    "import pydotplus\n",
    "import graphviz\n",
    "\n",
    "from IPython.display import Image\n",
    "\n",
    "warnings.filterwarnings('ignore')\n",
    "\n",
    "pd.options.display.max_columns = 400"
   ]
  },
  {
   "cell_type": "code",
   "execution_count": 8,
   "metadata": {
    "colab": {
     "base_uri": "https://localhost:8080/",
     "height": 34
    },
    "id": "d4dV5G74rCTo",
    "outputId": "edc4cbcd-7d7c-44af-bd9f-7aa5ed64c0a9"
   },
   "outputs": [
    {
     "data": {
      "text/html": [
       "\n",
       "        <iframe\n",
       "            width=\"100%\"\n",
       "            height=\"475\"\n",
       "            src=\"http://DESKTOP-3UQHDQC:40000/dtale/iframe/1\"\n",
       "            frameborder=\"0\"\n",
       "            allowfullscreen\n",
       "        ></iframe>\n",
       "        "
      ],
      "text/plain": [
       "<IPython.lib.display.IFrame at 0x1d8d1e535c8>"
      ]
     },
     "metadata": {},
     "output_type": "display_data"
    },
    {
     "data": {
      "text/plain": []
     },
     "execution_count": 8,
     "metadata": {},
     "output_type": "execute_result"
    },
    {
     "name": "stdout",
     "output_type": "stream",
     "text": [
      "Exception occurred while processing request: Function names must be unique if there is no new column names assigned\n",
      "Traceback (most recent call last):\n",
      "  File \"C:\\Users\\rahul\\anaconda3\\lib\\site-packages\\dtale\\views.py\", line 77, in _handle_exceptions\n",
      "    return func(*args, **kwargs)\n",
      "  File \"C:\\Users\\rahul\\anaconda3\\lib\\site-packages\\dtale\\views.py\", line 2052, in get_column_analysis\n",
      "    hist = data.groupby(category_col)[[selected_col]].agg(aggs)\n",
      "  File \"C:\\Users\\rahul\\anaconda3\\lib\\site-packages\\pandas\\core\\groupby\\generic.py\", line 942, in aggregate\n",
      "    relabeling, func, columns, order = reconstruct_func(func, **kwargs)\n",
      "  File \"C:\\Users\\rahul\\anaconda3\\lib\\site-packages\\pandas\\core\\aggregation.py\", line 81, in reconstruct_func\n",
      "    \"Function names must be unique if there is no new column names \"\n",
      "pandas.core.base.SpecificationError: Function names must be unique if there is no new column names assigned\n"
     ]
    },
    {
     "name": "stderr",
     "output_type": "stream",
     "text": [
      "2020-10-02 20:57:44,129 - ERROR    - Exception occurred while processing request: Function names must be unique if there is no new column names assigned\n",
      "Traceback (most recent call last):\n",
      "  File \"C:\\Users\\rahul\\anaconda3\\lib\\site-packages\\dtale\\views.py\", line 77, in _handle_exceptions\n",
      "    return func(*args, **kwargs)\n",
      "  File \"C:\\Users\\rahul\\anaconda3\\lib\\site-packages\\dtale\\views.py\", line 2052, in get_column_analysis\n",
      "    hist = data.groupby(category_col)[[selected_col]].agg(aggs)\n",
      "  File \"C:\\Users\\rahul\\anaconda3\\lib\\site-packages\\pandas\\core\\groupby\\generic.py\", line 942, in aggregate\n",
      "    relabeling, func, columns, order = reconstruct_func(func, **kwargs)\n",
      "  File \"C:\\Users\\rahul\\anaconda3\\lib\\site-packages\\pandas\\core\\aggregation.py\", line 81, in reconstruct_func\n",
      "    \"Function names must be unique if there is no new column names \"\n",
      "pandas.core.base.SpecificationError: Function names must be unique if there is no new column names assigned\n"
     ]
    },
    {
     "name": "stdout",
     "output_type": "stream",
     "text": [
      "Exception occurred while processing request: Function names must be unique if there is no new column names assigned\n",
      "Traceback (most recent call last):\n",
      "  File \"C:\\Users\\rahul\\anaconda3\\lib\\site-packages\\dtale\\views.py\", line 77, in _handle_exceptions\n",
      "    return func(*args, **kwargs)\n",
      "  File \"C:\\Users\\rahul\\anaconda3\\lib\\site-packages\\dtale\\views.py\", line 2052, in get_column_analysis\n",
      "    hist = data.groupby(category_col)[[selected_col]].agg(aggs)\n",
      "  File \"C:\\Users\\rahul\\anaconda3\\lib\\site-packages\\pandas\\core\\groupby\\generic.py\", line 942, in aggregate\n",
      "    relabeling, func, columns, order = reconstruct_func(func, **kwargs)\n",
      "  File \"C:\\Users\\rahul\\anaconda3\\lib\\site-packages\\pandas\\core\\aggregation.py\", line 81, in reconstruct_func\n",
      "    \"Function names must be unique if there is no new column names \"\n",
      "pandas.core.base.SpecificationError: Function names must be unique if there is no new column names assigned\n"
     ]
    },
    {
     "name": "stderr",
     "output_type": "stream",
     "text": [
      "2020-10-02 20:57:52,343 - ERROR    - Exception occurred while processing request: Function names must be unique if there is no new column names assigned\n",
      "Traceback (most recent call last):\n",
      "  File \"C:\\Users\\rahul\\anaconda3\\lib\\site-packages\\dtale\\views.py\", line 77, in _handle_exceptions\n",
      "    return func(*args, **kwargs)\n",
      "  File \"C:\\Users\\rahul\\anaconda3\\lib\\site-packages\\dtale\\views.py\", line 2052, in get_column_analysis\n",
      "    hist = data.groupby(category_col)[[selected_col]].agg(aggs)\n",
      "  File \"C:\\Users\\rahul\\anaconda3\\lib\\site-packages\\pandas\\core\\groupby\\generic.py\", line 942, in aggregate\n",
      "    relabeling, func, columns, order = reconstruct_func(func, **kwargs)\n",
      "  File \"C:\\Users\\rahul\\anaconda3\\lib\\site-packages\\pandas\\core\\aggregation.py\", line 81, in reconstruct_func\n",
      "    \"Function names must be unique if there is no new column names \"\n",
      "pandas.core.base.SpecificationError: Function names must be unique if there is no new column names assigned\n"
     ]
    },
    {
     "name": "stdout",
     "output_type": "stream",
     "text": [
      "Executing shutdown due to inactivity...\n"
     ]
    },
    {
     "name": "stderr",
     "output_type": "stream",
     "text": [
      "2020-10-02 22:12:05,423 - INFO     - Executing shutdown due to inactivity...\n"
     ]
    },
    {
     "name": "stdout",
     "output_type": "stream",
     "text": [
      "Executing shutdown...\n"
     ]
    },
    {
     "name": "stderr",
     "output_type": "stream",
     "text": [
      "2020-10-02 22:12:13,529 - INFO     - Executing shutdown...\n"
     ]
    }
   ],
   "source": [
    "import dtale \n",
    "dtale.show(train)"
   ]
  },
  {
   "cell_type": "code",
   "execution_count": 70,
   "metadata": {
    "colab": {
     "base_uri": "https://localhost:8080/",
     "height": 77
    },
    "id": "f1VxUmAy_T7N",
    "outputId": "d98a4d36-5080-415f-f2d4-52e7a123e2bb"
   },
   "outputs": [
    {
     "data": {
      "text/html": [
       "<div>\n",
       "<style scoped>\n",
       "    .dataframe tbody tr th:only-of-type {\n",
       "        vertical-align: middle;\n",
       "    }\n",
       "\n",
       "    .dataframe tbody tr th {\n",
       "        vertical-align: top;\n",
       "    }\n",
       "\n",
       "    .dataframe thead th {\n",
       "        text-align: right;\n",
       "    }\n",
       "</style>\n",
       "<table border=\"1\" class=\"dataframe\">\n",
       "  <thead>\n",
       "    <tr style=\"text-align: right;\">\n",
       "      <th></th>\n",
       "      <th>Unnamed: 0</th>\n",
       "      <th>m13</th>\n",
       "    </tr>\n",
       "  </thead>\n",
       "  <tbody>\n",
       "    <tr>\n",
       "      <th>0</th>\n",
       "      <td>68426</td>\n",
       "      <td>1</td>\n",
       "    </tr>\n",
       "  </tbody>\n",
       "</table>\n",
       "</div>"
      ],
      "text/plain": [
       "   Unnamed: 0  m13\n",
       "0       68426    1"
      ]
     },
     "execution_count": 70,
     "metadata": {
      "tags": []
     },
     "output_type": "execute_result"
    }
   ],
   "source": [
    "sample= pd.read_csv('./sample_submission.csv')\n",
    "sample.head(1)"
   ]
  },
  {
   "cell_type": "code",
   "execution_count": 2,
   "metadata": {
    "id": "68Q0wIVHRHIv"
   },
   "outputs": [],
   "source": [
    "train = pd.read_csv('./train.csv')\n",
    "test = pd.read_csv('./test.csv')\n",
    "pd.set_option('display.max_rows', None)"
   ]
  },
  {
   "cell_type": "code",
   "execution_count": 72,
   "metadata": {
    "colab": {
     "base_uri": "https://localhost:8080/",
     "height": 266
    },
    "id": "XLmbS8mt9t42",
    "outputId": "cb4650cc-be23-470a-b74d-eb511d3d219a"
   },
   "outputs": [
    {
     "data": {
      "text/html": [
       "<div>\n",
       "<style scoped>\n",
       "    .dataframe tbody tr th:only-of-type {\n",
       "        vertical-align: middle;\n",
       "    }\n",
       "\n",
       "    .dataframe tbody tr th {\n",
       "        vertical-align: top;\n",
       "    }\n",
       "\n",
       "    .dataframe thead th {\n",
       "        text-align: right;\n",
       "    }\n",
       "</style>\n",
       "<table border=\"1\" class=\"dataframe\">\n",
       "  <thead>\n",
       "    <tr style=\"text-align: right;\">\n",
       "      <th></th>\n",
       "      <th>Unnamed: 0</th>\n",
       "      <th>loan_id</th>\n",
       "      <th>source</th>\n",
       "      <th>financial_institution</th>\n",
       "      <th>interest_rate</th>\n",
       "      <th>unpaid_principal_bal</th>\n",
       "      <th>loan_term</th>\n",
       "      <th>origination_date</th>\n",
       "      <th>first_payment_date</th>\n",
       "      <th>loan_to_value</th>\n",
       "      <th>number_of_borrowers</th>\n",
       "      <th>debt_to_income_ratio</th>\n",
       "      <th>borrower_credit_score</th>\n",
       "      <th>loan_purpose</th>\n",
       "      <th>insurance_percent</th>\n",
       "      <th>co-borrower_credit_score</th>\n",
       "      <th>insurance_type</th>\n",
       "      <th>m1</th>\n",
       "      <th>m2</th>\n",
       "      <th>m3</th>\n",
       "      <th>m4</th>\n",
       "      <th>m5</th>\n",
       "      <th>m6</th>\n",
       "      <th>m7</th>\n",
       "      <th>m8</th>\n",
       "      <th>m9</th>\n",
       "      <th>m10</th>\n",
       "      <th>m11</th>\n",
       "      <th>m12</th>\n",
       "      <th>m13</th>\n",
       "    </tr>\n",
       "  </thead>\n",
       "  <tbody>\n",
       "    <tr>\n",
       "      <th>0</th>\n",
       "      <td>81041</td>\n",
       "      <td>861482495205</td>\n",
       "      <td>Y</td>\n",
       "      <td>Martinez, Duffy and Bird</td>\n",
       "      <td>3.375</td>\n",
       "      <td>272000</td>\n",
       "      <td>180</td>\n",
       "      <td>2012-01-01</td>\n",
       "      <td>03/2012</td>\n",
       "      <td>72</td>\n",
       "      <td>2.0</td>\n",
       "      <td>31.0</td>\n",
       "      <td>770.0</td>\n",
       "      <td>B12</td>\n",
       "      <td>0.0</td>\n",
       "      <td>786.0</td>\n",
       "      <td>0.0</td>\n",
       "      <td>0</td>\n",
       "      <td>0</td>\n",
       "      <td>0</td>\n",
       "      <td>0</td>\n",
       "      <td>0</td>\n",
       "      <td>0</td>\n",
       "      <td>0</td>\n",
       "      <td>0</td>\n",
       "      <td>0</td>\n",
       "      <td>0</td>\n",
       "      <td>0</td>\n",
       "      <td>0</td>\n",
       "      <td>0</td>\n",
       "    </tr>\n",
       "    <tr>\n",
       "      <th>1</th>\n",
       "      <td>51021</td>\n",
       "      <td>173139140902</td>\n",
       "      <td>Y</td>\n",
       "      <td>Swanson, Newton and Miller</td>\n",
       "      <td>4.250</td>\n",
       "      <td>371000</td>\n",
       "      <td>360</td>\n",
       "      <td>2012-01-01</td>\n",
       "      <td>03/2012</td>\n",
       "      <td>95</td>\n",
       "      <td>1.0</td>\n",
       "      <td>45.0</td>\n",
       "      <td>727.0</td>\n",
       "      <td>C86</td>\n",
       "      <td>30.0</td>\n",
       "      <td>0.0</td>\n",
       "      <td>0.0</td>\n",
       "      <td>0</td>\n",
       "      <td>0</td>\n",
       "      <td>0</td>\n",
       "      <td>0</td>\n",
       "      <td>0</td>\n",
       "      <td>0</td>\n",
       "      <td>0</td>\n",
       "      <td>0</td>\n",
       "      <td>0</td>\n",
       "      <td>0</td>\n",
       "      <td>0</td>\n",
       "      <td>0</td>\n",
       "      <td>0</td>\n",
       "    </tr>\n",
       "    <tr>\n",
       "      <th>2</th>\n",
       "      <td>83866</td>\n",
       "      <td>481942560913</td>\n",
       "      <td>Y</td>\n",
       "      <td>OTHER</td>\n",
       "      <td>4.500</td>\n",
       "      <td>90000</td>\n",
       "      <td>360</td>\n",
       "      <td>2012-01-01</td>\n",
       "      <td>03/2012</td>\n",
       "      <td>69</td>\n",
       "      <td>1.0</td>\n",
       "      <td>39.0</td>\n",
       "      <td>726.0</td>\n",
       "      <td>B12</td>\n",
       "      <td>0.0</td>\n",
       "      <td>0.0</td>\n",
       "      <td>0.0</td>\n",
       "      <td>0</td>\n",
       "      <td>0</td>\n",
       "      <td>0</td>\n",
       "      <td>0</td>\n",
       "      <td>0</td>\n",
       "      <td>0</td>\n",
       "      <td>0</td>\n",
       "      <td>0</td>\n",
       "      <td>0</td>\n",
       "      <td>0</td>\n",
       "      <td>0</td>\n",
       "      <td>0</td>\n",
       "      <td>0</td>\n",
       "    </tr>\n",
       "    <tr>\n",
       "      <th>3</th>\n",
       "      <td>92311</td>\n",
       "      <td>676780245612</td>\n",
       "      <td>Y</td>\n",
       "      <td>Turner, Baldwin and Rhodes</td>\n",
       "      <td>4.500</td>\n",
       "      <td>47000</td>\n",
       "      <td>240</td>\n",
       "      <td>2012-02-01</td>\n",
       "      <td>04/2012</td>\n",
       "      <td>75</td>\n",
       "      <td>1.0</td>\n",
       "      <td>43.0</td>\n",
       "      <td>688.0</td>\n",
       "      <td>B12</td>\n",
       "      <td>0.0</td>\n",
       "      <td>0.0</td>\n",
       "      <td>0.0</td>\n",
       "      <td>0</td>\n",
       "      <td>0</td>\n",
       "      <td>0</td>\n",
       "      <td>1</td>\n",
       "      <td>0</td>\n",
       "      <td>0</td>\n",
       "      <td>0</td>\n",
       "      <td>0</td>\n",
       "      <td>0</td>\n",
       "      <td>0</td>\n",
       "      <td>0</td>\n",
       "      <td>0</td>\n",
       "      <td>0</td>\n",
       "    </tr>\n",
       "    <tr>\n",
       "      <th>4</th>\n",
       "      <td>72274</td>\n",
       "      <td>433043514697</td>\n",
       "      <td>X</td>\n",
       "      <td>OTHER</td>\n",
       "      <td>4.875</td>\n",
       "      <td>177000</td>\n",
       "      <td>360</td>\n",
       "      <td>2012-01-01</td>\n",
       "      <td>03/2012</td>\n",
       "      <td>80</td>\n",
       "      <td>2.0</td>\n",
       "      <td>13.0</td>\n",
       "      <td>675.0</td>\n",
       "      <td>C86</td>\n",
       "      <td>0.0</td>\n",
       "      <td>672.0</td>\n",
       "      <td>0.0</td>\n",
       "      <td>0</td>\n",
       "      <td>0</td>\n",
       "      <td>0</td>\n",
       "      <td>0</td>\n",
       "      <td>0</td>\n",
       "      <td>0</td>\n",
       "      <td>0</td>\n",
       "      <td>0</td>\n",
       "      <td>0</td>\n",
       "      <td>0</td>\n",
       "      <td>0</td>\n",
       "      <td>0</td>\n",
       "      <td>0</td>\n",
       "    </tr>\n",
       "  </tbody>\n",
       "</table>\n",
       "</div>"
      ],
      "text/plain": [
       "   Unnamed: 0       loan_id source       financial_institution  interest_rate  \\\n",
       "0       81041  861482495205      Y    Martinez, Duffy and Bird          3.375   \n",
       "1       51021  173139140902      Y  Swanson, Newton and Miller          4.250   \n",
       "2       83866  481942560913      Y                       OTHER          4.500   \n",
       "3       92311  676780245612      Y  Turner, Baldwin and Rhodes          4.500   \n",
       "4       72274  433043514697      X                       OTHER          4.875   \n",
       "\n",
       "   unpaid_principal_bal  loan_term origination_date first_payment_date  \\\n",
       "0                272000        180       2012-01-01            03/2012   \n",
       "1                371000        360       2012-01-01            03/2012   \n",
       "2                 90000        360       2012-01-01            03/2012   \n",
       "3                 47000        240       2012-02-01            04/2012   \n",
       "4                177000        360       2012-01-01            03/2012   \n",
       "\n",
       "   loan_to_value  number_of_borrowers  debt_to_income_ratio  \\\n",
       "0             72                  2.0                  31.0   \n",
       "1             95                  1.0                  45.0   \n",
       "2             69                  1.0                  39.0   \n",
       "3             75                  1.0                  43.0   \n",
       "4             80                  2.0                  13.0   \n",
       "\n",
       "   borrower_credit_score loan_purpose  insurance_percent  \\\n",
       "0                  770.0          B12                0.0   \n",
       "1                  727.0          C86               30.0   \n",
       "2                  726.0          B12                0.0   \n",
       "3                  688.0          B12                0.0   \n",
       "4                  675.0          C86                0.0   \n",
       "\n",
       "   co-borrower_credit_score  insurance_type  m1  m2  m3  m4  m5  m6  m7  m8  \\\n",
       "0                     786.0             0.0   0   0   0   0   0   0   0   0   \n",
       "1                       0.0             0.0   0   0   0   0   0   0   0   0   \n",
       "2                       0.0             0.0   0   0   0   0   0   0   0   0   \n",
       "3                       0.0             0.0   0   0   0   1   0   0   0   0   \n",
       "4                     672.0             0.0   0   0   0   0   0   0   0   0   \n",
       "\n",
       "   m9  m10  m11  m12  m13  \n",
       "0   0    0    0    0    0  \n",
       "1   0    0    0    0    0  \n",
       "2   0    0    0    0    0  \n",
       "3   0    0    0    0    0  \n",
       "4   0    0    0    0    0  "
      ]
     },
     "execution_count": 72,
     "metadata": {
      "tags": []
     },
     "output_type": "execute_result"
    }
   ],
   "source": [
    "train.head()"
   ]
  },
  {
   "cell_type": "code",
   "execution_count": 73,
   "metadata": {
    "id": "kwzbY3939_4l"
   },
   "outputs": [],
   "source": [
    "##print(train['debt_to_income_ratio'].value_counts())\n",
    "#print(test['debt_to_income_ratio'].value_counts())"
   ]
  },
  {
   "cell_type": "code",
   "execution_count": 74,
   "metadata": {
    "colab": {
     "base_uri": "https://localhost:8080/",
     "height": 232
    },
    "id": "V_FRgWpt9wvA",
    "outputId": "4c12e76a-4b6c-40bd-d8c1-847b7adb4f94"
   },
   "outputs": [
    {
     "data": {
      "text/html": [
       "<div>\n",
       "<style scoped>\n",
       "    .dataframe tbody tr th:only-of-type {\n",
       "        vertical-align: middle;\n",
       "    }\n",
       "\n",
       "    .dataframe tbody tr th {\n",
       "        vertical-align: top;\n",
       "    }\n",
       "\n",
       "    .dataframe thead th {\n",
       "        text-align: right;\n",
       "    }\n",
       "</style>\n",
       "<table border=\"1\" class=\"dataframe\">\n",
       "  <thead>\n",
       "    <tr style=\"text-align: right;\">\n",
       "      <th></th>\n",
       "      <th>Unnamed: 0</th>\n",
       "      <th>loan_id</th>\n",
       "      <th>source</th>\n",
       "      <th>financial_institution</th>\n",
       "      <th>interest_rate</th>\n",
       "      <th>unpaid_principal_bal</th>\n",
       "      <th>loan_term</th>\n",
       "      <th>origination_date</th>\n",
       "      <th>first_payment_date</th>\n",
       "      <th>loan_to_value</th>\n",
       "      <th>number_of_borrowers</th>\n",
       "      <th>debt_to_income_ratio</th>\n",
       "      <th>borrower_credit_score</th>\n",
       "      <th>loan_purpose</th>\n",
       "      <th>insurance_percent</th>\n",
       "      <th>co-borrower_credit_score</th>\n",
       "      <th>insurance_type</th>\n",
       "      <th>m1</th>\n",
       "      <th>m2</th>\n",
       "      <th>m3</th>\n",
       "      <th>m4</th>\n",
       "      <th>m5</th>\n",
       "      <th>m6</th>\n",
       "      <th>m7</th>\n",
       "      <th>m8</th>\n",
       "      <th>m9</th>\n",
       "      <th>m10</th>\n",
       "      <th>m11</th>\n",
       "      <th>m12</th>\n",
       "    </tr>\n",
       "  </thead>\n",
       "  <tbody>\n",
       "    <tr>\n",
       "      <th>0</th>\n",
       "      <td>68426</td>\n",
       "      <td>780423564300</td>\n",
       "      <td>X</td>\n",
       "      <td>OTHER</td>\n",
       "      <td>3.375</td>\n",
       "      <td>144000</td>\n",
       "      <td>180</td>\n",
       "      <td>2012-01-01</td>\n",
       "      <td>03/2012</td>\n",
       "      <td>73</td>\n",
       "      <td>2.0</td>\n",
       "      <td>20.0</td>\n",
       "      <td>790.0</td>\n",
       "      <td>A23</td>\n",
       "      <td>0.0</td>\n",
       "      <td>797.0</td>\n",
       "      <td>0.0</td>\n",
       "      <td>0</td>\n",
       "      <td>0</td>\n",
       "      <td>0</td>\n",
       "      <td>0</td>\n",
       "      <td>0</td>\n",
       "      <td>0</td>\n",
       "      <td>0</td>\n",
       "      <td>0</td>\n",
       "      <td>0</td>\n",
       "      <td>0</td>\n",
       "      <td>0</td>\n",
       "      <td>0</td>\n",
       "    </tr>\n",
       "    <tr>\n",
       "      <th>1</th>\n",
       "      <td>49544</td>\n",
       "      <td>472138003270</td>\n",
       "      <td>Y</td>\n",
       "      <td>Browning-Hart</td>\n",
       "      <td>4.375</td>\n",
       "      <td>110000</td>\n",
       "      <td>360</td>\n",
       "      <td>2012-01-01</td>\n",
       "      <td>03/2012</td>\n",
       "      <td>88</td>\n",
       "      <td>1.0</td>\n",
       "      <td>45.0</td>\n",
       "      <td>779.0</td>\n",
       "      <td>C86</td>\n",
       "      <td>25.0</td>\n",
       "      <td>0.0</td>\n",
       "      <td>0.0</td>\n",
       "      <td>0</td>\n",
       "      <td>0</td>\n",
       "      <td>0</td>\n",
       "      <td>0</td>\n",
       "      <td>0</td>\n",
       "      <td>0</td>\n",
       "      <td>0</td>\n",
       "      <td>0</td>\n",
       "      <td>0</td>\n",
       "      <td>0</td>\n",
       "      <td>0</td>\n",
       "      <td>0</td>\n",
       "    </tr>\n",
       "    <tr>\n",
       "      <th>2</th>\n",
       "      <td>96751</td>\n",
       "      <td>233667097068</td>\n",
       "      <td>X</td>\n",
       "      <td>Browning-Hart</td>\n",
       "      <td>4.125</td>\n",
       "      <td>243000</td>\n",
       "      <td>240</td>\n",
       "      <td>2012-02-01</td>\n",
       "      <td>04/2012</td>\n",
       "      <td>70</td>\n",
       "      <td>2.0</td>\n",
       "      <td>40.0</td>\n",
       "      <td>727.0</td>\n",
       "      <td>B12</td>\n",
       "      <td>0.0</td>\n",
       "      <td>705.0</td>\n",
       "      <td>0.0</td>\n",
       "      <td>0</td>\n",
       "      <td>0</td>\n",
       "      <td>0</td>\n",
       "      <td>0</td>\n",
       "      <td>0</td>\n",
       "      <td>0</td>\n",
       "      <td>0</td>\n",
       "      <td>0</td>\n",
       "      <td>0</td>\n",
       "      <td>0</td>\n",
       "      <td>0</td>\n",
       "      <td>0</td>\n",
       "    </tr>\n",
       "    <tr>\n",
       "      <th>3</th>\n",
       "      <td>112058</td>\n",
       "      <td>117580972208</td>\n",
       "      <td>X</td>\n",
       "      <td>OTHER</td>\n",
       "      <td>2.875</td>\n",
       "      <td>189000</td>\n",
       "      <td>120</td>\n",
       "      <td>2012-03-01</td>\n",
       "      <td>05/2012</td>\n",
       "      <td>64</td>\n",
       "      <td>2.0</td>\n",
       "      <td>35.0</td>\n",
       "      <td>798.0</td>\n",
       "      <td>A23</td>\n",
       "      <td>0.0</td>\n",
       "      <td>793.0</td>\n",
       "      <td>0.0</td>\n",
       "      <td>0</td>\n",
       "      <td>0</td>\n",
       "      <td>0</td>\n",
       "      <td>0</td>\n",
       "      <td>0</td>\n",
       "      <td>0</td>\n",
       "      <td>0</td>\n",
       "      <td>0</td>\n",
       "      <td>0</td>\n",
       "      <td>0</td>\n",
       "      <td>0</td>\n",
       "      <td>0</td>\n",
       "    </tr>\n",
       "    <tr>\n",
       "      <th>4</th>\n",
       "      <td>85610</td>\n",
       "      <td>440010429529</td>\n",
       "      <td>Z</td>\n",
       "      <td>OTHER</td>\n",
       "      <td>4.000</td>\n",
       "      <td>141000</td>\n",
       "      <td>360</td>\n",
       "      <td>2012-03-01</td>\n",
       "      <td>05/2012</td>\n",
       "      <td>84</td>\n",
       "      <td>2.0</td>\n",
       "      <td>31.0</td>\n",
       "      <td>819.0</td>\n",
       "      <td>A23</td>\n",
       "      <td>12.0</td>\n",
       "      <td>799.0</td>\n",
       "      <td>0.0</td>\n",
       "      <td>0</td>\n",
       "      <td>0</td>\n",
       "      <td>0</td>\n",
       "      <td>0</td>\n",
       "      <td>0</td>\n",
       "      <td>0</td>\n",
       "      <td>0</td>\n",
       "      <td>0</td>\n",
       "      <td>0</td>\n",
       "      <td>0</td>\n",
       "      <td>0</td>\n",
       "      <td>0</td>\n",
       "    </tr>\n",
       "  </tbody>\n",
       "</table>\n",
       "</div>"
      ],
      "text/plain": [
       "   Unnamed: 0       loan_id source financial_institution  interest_rate  \\\n",
       "0       68426  780423564300      X                 OTHER          3.375   \n",
       "1       49544  472138003270      Y         Browning-Hart          4.375   \n",
       "2       96751  233667097068      X         Browning-Hart          4.125   \n",
       "3      112058  117580972208      X                 OTHER          2.875   \n",
       "4       85610  440010429529      Z                 OTHER          4.000   \n",
       "\n",
       "   unpaid_principal_bal  loan_term origination_date first_payment_date  \\\n",
       "0                144000        180       2012-01-01            03/2012   \n",
       "1                110000        360       2012-01-01            03/2012   \n",
       "2                243000        240       2012-02-01            04/2012   \n",
       "3                189000        120       2012-03-01            05/2012   \n",
       "4                141000        360       2012-03-01            05/2012   \n",
       "\n",
       "   loan_to_value  number_of_borrowers  debt_to_income_ratio  \\\n",
       "0             73                  2.0                  20.0   \n",
       "1             88                  1.0                  45.0   \n",
       "2             70                  2.0                  40.0   \n",
       "3             64                  2.0                  35.0   \n",
       "4             84                  2.0                  31.0   \n",
       "\n",
       "   borrower_credit_score loan_purpose  insurance_percent  \\\n",
       "0                  790.0          A23                0.0   \n",
       "1                  779.0          C86               25.0   \n",
       "2                  727.0          B12                0.0   \n",
       "3                  798.0          A23                0.0   \n",
       "4                  819.0          A23               12.0   \n",
       "\n",
       "   co-borrower_credit_score  insurance_type  m1  m2  m3  m4  m5  m6  m7  m8  \\\n",
       "0                     797.0             0.0   0   0   0   0   0   0   0   0   \n",
       "1                       0.0             0.0   0   0   0   0   0   0   0   0   \n",
       "2                     705.0             0.0   0   0   0   0   0   0   0   0   \n",
       "3                     793.0             0.0   0   0   0   0   0   0   0   0   \n",
       "4                     799.0             0.0   0   0   0   0   0   0   0   0   \n",
       "\n",
       "   m9  m10  m11  m12  \n",
       "0   0    0    0    0  \n",
       "1   0    0    0    0  \n",
       "2   0    0    0    0  \n",
       "3   0    0    0    0  \n",
       "4   0    0    0    0  "
      ]
     },
     "execution_count": 74,
     "metadata": {
      "tags": []
     },
     "output_type": "execute_result"
    }
   ],
   "source": [
    "test.head()"
   ]
  },
  {
   "cell_type": "code",
   "execution_count": 3,
   "metadata": {
    "id": "YlY4kERyRHIy"
   },
   "outputs": [],
   "source": [
    "df = train.copy()\n",
    "df_test = test.copy()"
   ]
  },
  {
   "cell_type": "code",
   "execution_count": 4,
   "metadata": {
    "id": "wbEf7UQ1RHI9"
   },
   "outputs": [],
   "source": [
    "df['January'] = (df['origination_date']=='2012-01-01').astype('int')\n",
    "df['February'] = (df['origination_date']=='2012-02-01').astype('int')\n",
    "df['March'] = (df['origination_date']=='2012-03-01').astype('int')\n",
    "df.drop('origination_date',axis=1,inplace=True)\n",
    "#\n",
    "df['fpay_1'] = (df['first_payment_date']=='02/2012').astype('int')\n",
    "df['fpay_2'] = (df['first_payment_date']=='03/2012').astype('int')\n",
    "df['fpay3'] = (df['first_payment_date']=='04/2012').astype('int')\n",
    "df['fpay4'] = (df['first_payment_date']=='05/2012').astype('int')\n",
    "df.drop('first_payment_date',axis=1,inplace=True)\n",
    "#\n",
    "df_1 = pd.get_dummies(df['financial_institution'])\n",
    "df = pd.concat([df, df_1],axis=1)\n",
    "df.drop('financial_institution',axis=1,inplace=True)\n",
    "#\n",
    "df['Source_X'] = (df['source']=='X').astype('int')\n",
    "df['Source_Y'] = (df['source']=='Y').astype('int')\n",
    "df.drop('source',axis=1,inplace=True)\n",
    "#\n",
    "df.drop('Unnamed: 0',axis=1,inplace=True)\n",
    "df.drop('loan_id',axis=1,inplace=True)\n",
    "#\n",
    "df['borrowers_1'] = (df['number_of_borrowers']==1.0).astype('int')\n",
    "df['borrowers_2'] = (df['number_of_borrowers']==2.0).astype('int')\n",
    "df.drop('number_of_borrowers',axis=1,inplace=True)\n",
    "#\n",
    "df_12 = pd.get_dummies(df['loan_purpose'],prefix='pupose')\n",
    "df = pd.concat([df,df_12],axis=1)\n",
    "df.drop('loan_purpose',axis=1,inplace=True)\n",
    "#\n",
    "'''debt = pd.get_dummies(df['debt_to_income_ratio'],prefix='debitincome')\n",
    "df = pd.concat([df,debt],axis=1)\n",
    "df.drop('debt_to_income_ratio',axis=1,inplace=True)'''\n",
    "#\n",
    "scale = ['unpaid_principal_bal']\n",
    "robust_scaler = RobustScaler()\n",
    "df.loc[:,scale] = robust_scaler.fit_transform(df.loc[:,scale])\n"
   ]
  },
  {
   "cell_type": "code",
   "execution_count": 5,
   "metadata": {
    "id": "yS6bJy6Z5PpB"
   },
   "outputs": [],
   "source": [
    "df_test['January'] = (df_test['origination_date']=='2012-01-01').astype('int')\n",
    "df_test['February'] = (df_test['origination_date']=='2012-02-01').astype('int')\n",
    "df_test['March'] = (df_test['origination_date']=='2012-03-01').astype('int')\n",
    "df_test.drop('origination_date',axis=1,inplace=True)\n",
    "#\n",
    "df_test['fpay_1'] = (df_test['first_payment_date']=='02/2012').astype('int')\n",
    "df_test['fpay_2'] = (df_test['first_payment_date']=='03/2012').astype('int')\n",
    "df_test['fpay3'] = (df_test['first_payment_date']=='04/2012').astype('int')\n",
    "df_test['fpay4'] = (df_test['first_payment_date']=='05/2012').astype('int')\n",
    "df_test.drop('first_payment_date',axis=1,inplace=True)\n",
    "#\n",
    "df_test_1 = pd.get_dummies(df_test['financial_institution'])\n",
    "df_test = pd.concat([df_test, df_test_1],axis=1)\n",
    "df_test.drop('financial_institution',axis=1,inplace=True)\n",
    "#\n",
    "df_test['Source_X'] = (df_test['source']=='X').astype('int')\n",
    "df_test['Source_Y'] = (df_test['source']=='Y').astype('int')\n",
    "df_test.drop('source',axis=1,inplace=True)\n",
    "#\n",
    "df_test.drop('Unnamed: 0',axis=1,inplace=True)\n",
    "df_test.drop('loan_id',axis=1,inplace=True)\n",
    "#\n",
    "df_test['borrowers_1'] = (df_test['number_of_borrowers']==1.0).astype('int')\n",
    "df_test['borrowers_2'] = (df_test['number_of_borrowers']==2.0).astype('int')\n",
    "df_test.drop('number_of_borrowers',axis=1,inplace=True)\n",
    "#\n",
    "df_test_12 = pd.get_dummies(df_test['loan_purpose'],prefix='pupose')\n",
    "df_test = pd.concat([df_test,df_test_12],axis=1)\n",
    "df_test.drop('loan_purpose',axis=1,inplace=True)\n",
    "#\n",
    "'''debt = pd.get_dummies(df_test['debt_to_income_ratio'],prefix='debitincome')\n",
    "df_test = pd.concat([df_test,debt],axis=1)\n",
    "df_test.drop('debt_to_income_ratio',axis=1,inplace=True)'''\n",
    "#\n",
    "scale = ['unpaid_principal_bal']\n",
    "robust_scaler = RobustScaler()\n",
    "df_test.loc[:,scale] = robust_scaler.fit_transform(df_test.loc[:,scale])"
   ]
  },
  {
   "cell_type": "code",
   "execution_count": 6,
   "metadata": {
    "colab": {
     "base_uri": "https://localhost:8080/",
     "height": 50
    },
    "id": "bwzYgK9p8emY",
    "outputId": "b227433f-519a-4dc2-af5b-665c795ca90b"
   },
   "outputs": [
    {
     "name": "stdout",
     "output_type": "stream",
     "text": [
      "(23212, 54)\n",
      "(92846, 55)\n"
     ]
    }
   ],
   "source": [
    "print(df_test.shape)\n",
    "print(df.shape)"
   ]
  },
  {
   "cell_type": "markdown",
   "metadata": {
    "id": "gzGUFJqgtfQu"
   },
   "source": [
    "test "
   ]
  },
  {
   "cell_type": "code",
   "execution_count": 79,
   "metadata": {
    "id": "xM-2O4BYidEu"
   },
   "outputs": [],
   "source": [
    "X = df.drop(['m13'],axis=1)\n",
    "Y = df['m13']\n",
    "X_train,X_test,y_train,y_test=train_test_split(X,Y,test_size=0.20,random_state=0)"
   ]
  },
  {
   "cell_type": "code",
   "execution_count": 80,
   "metadata": {
    "id": "Q44D3FZonN3g"
   },
   "outputs": [],
   "source": [
    "from sklearn.ensemble import RandomForestClassifier\n",
    "rf_classifier=RandomForestClassifier(n_estimators=10).fit(X_train,y_train)\n",
    "prediction=rf_classifier.predict(X_test)"
   ]
  },
  {
   "cell_type": "code",
   "execution_count": 81,
   "metadata": {
    "id": "Pvtu7yan8bEM"
   },
   "outputs": [],
   "source": [
    "y_pred = rf_classifier.predict(df_test)"
   ]
  },
  {
   "cell_type": "code",
   "execution_count": 82,
   "metadata": {
    "id": "BcX1seVQ_OL-"
   },
   "outputs": [],
   "source": [
    "pred=pd.DataFrame(y_pred)\n",
    "datasets= pd.concat([test['Unnamed: 0'],pred],axis=1)\n",
    "datasets.columns=['Unnamed: 0','m13']\n",
    "datasets.to_csv('sample_submission.csv',index=False)"
   ]
  },
  {
   "cell_type": "code",
   "execution_count": 83,
   "metadata": {
    "colab": {
     "base_uri": "https://localhost:8080/",
     "height": 202
    },
    "id": "_vA_gKNY6GIA",
    "outputId": "fd0554e3-8321-460d-dc69-6944890c62e5"
   },
   "outputs": [
    {
     "name": "stdout",
     "output_type": "stream",
     "text": [
      "       Actual  Predicted\n",
      "51652       0          0\n",
      "3119        0          0\n",
      "76241       0          0\n",
      "20278       0          0\n",
      "79937       0          0\n",
      "52041       0          0\n",
      "80545       0          0\n",
      "89558       0          0\n",
      "44263       0          0\n",
      "21893       0          0\n"
     ]
    }
   ],
   "source": [
    "df_pred = pd.DataFrame({'Actual': y_test, 'Predicted': prediction})\n",
    "print(df_pred.tail(10))"
   ]
  },
  {
   "cell_type": "code",
   "execution_count": 84,
   "metadata": {
    "colab": {
     "base_uri": "https://localhost:8080/",
     "height": 218
    },
    "id": "vNuWoxGunOgI",
    "outputId": "a9b1a533-b097-429b-a846-8a200ede9daa"
   },
   "outputs": [
    {
     "name": "stdout",
     "output_type": "stream",
     "text": [
      "[[18463     8]\n",
      " [   64    35]]\n",
      "0.9961227786752828\n",
      "              precision    recall  f1-score   support\n",
      "\n",
      "           0       1.00      1.00      1.00     18471\n",
      "           1       0.81      0.35      0.49        99\n",
      "\n",
      "    accuracy                           1.00     18570\n",
      "   macro avg       0.91      0.68      0.75     18570\n",
      "weighted avg       1.00      1.00      1.00     18570\n",
      "\n"
     ]
    }
   ],
   "source": [
    "\n",
    "from sklearn.metrics import confusion_matrix,classification_report,accuracy_score\n",
    "print(confusion_matrix(y_test,prediction))\n",
    "print(accuracy_score(y_test,prediction))\n",
    "print(classification_report(y_test,prediction))"
   ]
  },
  {
   "cell_type": "code",
   "execution_count": 85,
   "metadata": {
    "colab": {
     "base_uri": "https://localhost:8080/",
     "height": 218
    },
    "id": "AL2Vf1TsnSj5",
    "outputId": "384396e6-dc94-4af0-9400-07d55128488b"
   },
   "outputs": [
    {
     "name": "stdout",
     "output_type": "stream",
     "text": [
      "[[18462     9]\n",
      " [   69    30]]\n",
      "0.9957996768982229\n",
      "              precision    recall  f1-score   support\n",
      "\n",
      "           0       1.00      1.00      1.00     18471\n",
      "           1       0.77      0.30      0.43        99\n",
      "\n",
      "    accuracy                           1.00     18570\n",
      "   macro avg       0.88      0.65      0.72     18570\n",
      "weighted avg       1.00      1.00      0.99     18570\n",
      "\n"
     ]
    }
   ],
   "source": [
    "model=RandomForestClassifier(n_estimators=300,criterion='entropy',\n",
    "                             max_features='sqrt',min_samples_leaf=10,random_state=100).fit(X_train,y_train)\n",
    "predictions=model.predict(X_test)\n",
    "print(confusion_matrix(y_test,predictions))\n",
    "print(accuracy_score(y_test,predictions))\n",
    "print(classification_report(y_test,predictions))"
   ]
  }
 ],
 "metadata": {
  "colab": {
   "collapsed_sections": [],
   "name": "GLtest2.ipynb",
   "provenance": []
  },
  "kernelspec": {
   "display_name": "Python 3",
   "language": "python",
   "name": "python3"
  },
  "language_info": {
   "codemirror_mode": {
    "name": "ipython",
    "version": 3
   },
   "file_extension": ".py",
   "mimetype": "text/x-python",
   "name": "python",
   "nbconvert_exporter": "python",
   "pygments_lexer": "ipython3",
   "version": "3.7.6"
  }
 },
 "nbformat": 4,
 "nbformat_minor": 1
}
